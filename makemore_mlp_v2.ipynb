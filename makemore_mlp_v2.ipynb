{
 "cells": [
  {
   "cell_type": "code",
   "execution_count": 138,
   "metadata": {},
   "outputs": [],
   "source": [
    "import torch\n",
    "import torch.nn.functional as F\n",
    "import matplotlib.pyplot as plt\n",
    "%matplotlib inline"
   ]
  },
  {
   "cell_type": "code",
   "execution_count": 139,
   "metadata": {},
   "outputs": [
    {
     "data": {
      "text/plain": [
       "['emma', 'olivia', 'ava', 'isabella', 'sophia', 'charlotte', 'mia', 'amelia']"
      ]
     },
     "execution_count": 139,
     "metadata": {},
     "output_type": "execute_result"
    }
   ],
   "source": [
    "# read in all the words\n",
    "words = open('names.txt').read().splitlines()\n",
    "words[:8]"
   ]
  },
  {
   "cell_type": "code",
   "execution_count": 140,
   "metadata": {},
   "outputs": [
    {
     "data": {
      "text/plain": [
       "32033"
      ]
     },
     "execution_count": 140,
     "metadata": {},
     "output_type": "execute_result"
    }
   ],
   "source": [
    "len(words)"
   ]
  },
  {
   "cell_type": "code",
   "execution_count": 141,
   "metadata": {},
   "outputs": [
    {
     "name": "stdout",
     "output_type": "stream",
     "text": [
      "{1: 'a', 2: 'b', 3: 'c', 4: 'd', 5: 'e', 6: 'f', 7: 'g', 8: 'h', 9: 'i', 10: 'j', 11: 'k', 12: 'l', 13: 'm', 14: 'n', 15: 'o', 16: 'p', 17: 'q', 18: 'r', 19: 's', 20: 't', 21: 'u', 22: 'v', 23: 'w', 24: 'x', 25: 'y', 26: 'z', 0: '.'}\n",
      "27\n"
     ]
    }
   ],
   "source": [
    "# build the vocabulary\n",
    "chars = sorted(list(set(''.join(words))))\n",
    "char_to_int = {c: i+1 for i, c in enumerate(chars)}\n",
    "char_to_int['.'] = 0\n",
    "int_to_char = {i: c for c, i  in char_to_int.items()}\n",
    "\n",
    "vocab_size = len(int_to_char)\n",
    "print(int_to_char)\n",
    "print(vocab_size)"
   ]
  },
  {
   "cell_type": "code",
   "execution_count": 142,
   "metadata": {},
   "outputs": [
    {
     "name": "stdout",
     "output_type": "stream",
     "text": [
      "torch.Size([182625, 3]) torch.Size([182625])\n",
      "torch.Size([22655, 3]) torch.Size([22655])\n",
      "torch.Size([22866, 3]) torch.Size([22866])\n"
     ]
    }
   ],
   "source": [
    "# build the dataset\n",
    "block_size = 3\n",
    "\n",
    "def build_dataset(words, block_size):\n",
    "    X, Y = [], []\n",
    "\n",
    "    for word in words:\n",
    "        context = [0] * block_size\n",
    "\n",
    "        for char in word + '.':\n",
    "            index = char_to_int[char]\n",
    "            X.append(context)\n",
    "            Y.append(index)\n",
    "            context = context[1:] + [index]\n",
    "    \n",
    "    X = torch.tensor(X)\n",
    "    Y = torch.tensor(Y)\n",
    "    print(X.shape, Y.shape)\n",
    "    return X, Y\n",
    "\n",
    "# train, validation, test split\n",
    "import random\n",
    "random.seed(42)\n",
    "random.shuffle(words)\n",
    "\n",
    "split_index_1 = int(len(words) * 0.8)\n",
    "split_index_2 = int(len(words) * 0.9)\n",
    "\n",
    "X_train, Y_train = build_dataset(words[:split_index_1], block_size) # 80% of the data\n",
    "X_valid, Y_valid = build_dataset(words[split_index_1:split_index_2], block_size) # 10% of the data\n",
    "X_test, Y_test = build_dataset(words[split_index_2:], block_size) # 10% of the data\n",
    "\n"
   ]
  },
  {
   "cell_type": "code",
   "execution_count": 143,
   "metadata": {},
   "outputs": [
    {
     "name": "stdout",
     "output_type": "stream",
     "text": [
      "12097\n"
     ]
    }
   ],
   "source": [
    "# Initialize MLP model\n",
    "num_embeddings = 10 # the dimensionality of the character embedding space\n",
    "num_hidden = 200 # the number of neurons in the hidden layer\n",
    "\n",
    "g = torch.Generator().manual_seed(2147483647)\n",
    "C = torch.randn(vocab_size, num_embeddings, generator=g)\n",
    "W1 = torch.randn(num_embeddings * block_size, num_hidden, generator=g) * ((5/3)/(num_embeddings * block_size**0.5)) # scale down the weights; kaiming initialization\n",
    "# b1 = torch.randn(num_hidden, generator=g) * 0.01 # scale down the bias\n",
    "W2 = torch.randn(num_hidden, vocab_size, generator=g) * 0.01 # scale down the weights\n",
    "b2 = torch.randn(vocab_size, generator=g) * 0 # no bias in the output layer\n",
    "\n",
    "batch_norm_gain = torch.ones((1, num_hidden))\n",
    "batch_norm_bias = torch.zeros((1, num_hidden))\n",
    "\n",
    "batch_mean_running = torch.zeros((1, num_hidden))\n",
    "batch_std_running = torch.ones((1, num_hidden))\n",
    "\n",
    "parameters = [C, W1, W2, b2, batch_norm_gain, batch_norm_bias]\n",
    "print(sum(p.nelement() for p in parameters))\n",
    "\n",
    "for p in parameters:\n",
    "    p.requires_grad = True"
   ]
  },
  {
   "cell_type": "code",
   "execution_count": 144,
   "metadata": {},
   "outputs": [
    {
     "name": "stdout",
     "output_type": "stream",
     "text": [
      "step 0 / 200000: loss 3.324\n",
      "step 10000 / 200000: loss 2.103\n",
      "step 20000 / 200000: loss 2.586\n",
      "step 30000 / 200000: loss 1.966\n",
      "step 40000 / 200000: loss 2.272\n",
      "step 50000 / 200000: loss 1.795\n",
      "step 60000 / 200000: loss 2.121\n",
      "step 70000 / 200000: loss 2.377\n",
      "step 80000 / 200000: loss 2.420\n",
      "step 90000 / 200000: loss 2.083\n",
      "step 100000 / 200000: loss 2.349\n",
      "step 110000 / 200000: loss 2.351\n",
      "step 120000 / 200000: loss 1.686\n",
      "step 130000 / 200000: loss 1.995\n",
      "step 140000 / 200000: loss 2.243\n",
      "step 150000 / 200000: loss 2.004\n",
      "step 160000 / 200000: loss 2.096\n",
      "step 170000 / 200000: loss 2.403\n",
      "step 180000 / 200000: loss 2.061\n",
      "step 190000 / 200000: loss 2.071\n"
     ]
    },
    {
     "data": {
      "image/png": "[encoded data removed]",
      "text/plain": [
       "<Figure size 640x480 with 1 Axes>"
      ]
     },
     "metadata": {},
     "output_type": "display_data"
    }
   ],
   "source": [
    "# optimization\n",
    "max_steps = 200000\n",
    "batch_size = 32\n",
    "losses = []\n",
    "\n",
    "for step in range(max_steps):\n",
    "    # mini-batch sampling\n",
    "    indices = torch.randint(0, X_train.shape[0], (batch_size,), generator=g)\n",
    "    X_batch = X_train[indices]\n",
    "    Y_batch = Y_train[indices]\n",
    "\n",
    "    # forward pass\n",
    "    embedding = C[X_batch] # embed the characters into vectors\n",
    "    embedding_cat = embedding.view(embedding.shape[0], -1) # concatenate the vectors\n",
    "    hidden = embedding_cat @ W1 # compute the hidden layer, pre-activation\n",
    "    \n",
    "    # batch normalization layer\n",
    "    batch_mean = hidden.mean(0, keepdim=True) # compute the batch mean\n",
    "    batch_std = hidden.std(0, keepdim=True) # compute the batch standard deviation\n",
    "    hidden_norm = batch_norm_gain * (hidden - batch_mean) / batch_std + batch_norm_bias # apply batch normalization\n",
    "    \n",
    "    with torch.no_grad():    \n",
    "        batch_mean_running = 0.999 * batch_mean_running + 0.001 * batch_mean # update the running mean\n",
    "        batch_std_running = 0.999 * batch_std_running + 0.001 * batch_std # update the running standard deviation\n",
    "\n",
    "    # activation layer  \n",
    "    hidden_act = torch.tanh(hidden_norm) # apply the activation function\n",
    "    logits = hidden_act @ W2 + b2 # compute the logits\n",
    "    loss = F.cross_entropy(logits, Y_batch) # compute the loss\n",
    "\n",
    "    # backward pass\n",
    "    for p in parameters:\n",
    "        p.grad = None # zero out the gradients\n",
    "    \n",
    "    loss.backward() # compute the gradients\n",
    "\n",
    "    # gradient descent\n",
    "    learning_rate = 0.1 if step < 100000 else 0.01\n",
    "\n",
    "    for p in parameters:\n",
    "        p.data -= p.grad * learning_rate\n",
    "\n",
    "    # track stats\n",
    "    if step % 10000 == 0:\n",
    "        print(f'step {step} / {max_steps}: loss {loss.item():.3f}')\n",
    "    \n",
    "    losses.append(loss.item())\n",
    "\n",
    "# plot the loss\n",
    "plt.plot(losses)\n",
    "plt.show()\n"
   ]
  },
  {
   "cell_type": "code",
   "execution_count": 145,
   "metadata": {},
   "outputs": [
    {
     "data": {
      "image/png": "[encoded data removed]",
      "text/plain": [
       "<Figure size 2000x1000 with 1 Axes>"
      ]
     },
     "metadata": {},
     "output_type": "display_data"
    }
   ],
   "source": [
    "plt.figure(figsize=(20, 10))\n",
    "plt.imshow(hidden_act.abs() > 0.99, cmap='gray', interpolation='nearest');"
   ]
  },
  {
   "cell_type": "code",
   "execution_count": 146,
   "metadata": {},
   "outputs": [
    {
     "data": {
      "image/png": "[encoded data removed]",
      "text/plain": [
       "<Figure size 640x480 with 1 Axes>"
      ]
     },
     "metadata": {},
     "output_type": "display_data"
    }
   ],
   "source": [
    "plt.hist(hidden_act.view(-1).tolist(), 50);"
   ]
  },
  {
   "cell_type": "code",
   "execution_count": 147,
   "metadata": {},
   "outputs": [
    {
     "data": {
      "image/png": "[encoded data removed]",
      "text/plain": [
       "<Figure size 640x480 with 1 Axes>"
      ]
     },
     "metadata": {},
     "output_type": "display_data"
    }
   ],
   "source": [
    "plt.hist(hidden.view(-1).tolist(), 50);"
   ]
  },
  {
   "cell_type": "code",
   "execution_count": 148,
   "metadata": {},
   "outputs": [
    {
     "name": "stdout",
     "output_type": "stream",
     "text": [
      "train 2.0596511363983154\n",
      "valid 2.1066300868988037\n"
     ]
    }
   ],
   "source": [
    "@torch.no_grad() # disable gradient tracking\n",
    "def split_loss(split):\n",
    "    x,y = {\n",
    "        'train': (X_train, Y_train),\n",
    "        'valid': (X_valid, Y_valid),\n",
    "        'test': (X_test, Y_test),\n",
    "    }[split]\n",
    "\n",
    "    embedding = C[x] # (N, block_size, num_embeddings)\n",
    "    embedding_cat = embedding.view(embedding.shape[0], -1) # (N, block_size * num_embeddings)\n",
    "    hidden = embedding_cat @ W1 # (N, num_hidden)\n",
    "    # batch normalization\n",
    "    hidden_norm = batch_norm_gain * (hidden - batch_mean_running) / batch_std_running + batch_norm_bias # apply batch normalization\n",
    "    #-----\n",
    "    hidden_act = torch.tanh(hidden_norm) # (N, num_hidden)\n",
    "    logits = hidden_act @ W2 + b2 # (N, vocab_size)\n",
    "    loss = F.cross_entropy(logits, y) # (1)\n",
    "    print(split, loss.item())\n",
    "\n",
    "split_loss('train')\n",
    "split_loss('valid')"
   ]
  },
  {
   "cell_type": "code",
   "execution_count": 149,
   "metadata": {},
   "outputs": [
    {
     "name": "stdout",
     "output_type": "stream",
     "text": [
      "carlah.\n",
      "amelle.\n",
      "khi.\n",
      "milia.\n",
      "aty.\n",
      "sacassie.\n",
      "mahnee.\n",
      "delynn.\n",
      "jareei.\n",
      "ner.\n",
      "kiah.\n",
      "maiir.\n",
      "kaleigh.\n",
      "ham.\n",
      "join.\n",
      "quinthorlin.\n",
      "alianni.\n",
      "watell.\n",
      "dearyxia.\n",
      "kael.\n"
     ]
    }
   ],
   "source": [
    "# sample from the model\n",
    "g = torch.Generator().manual_seed(2147483647 + 10)\n",
    "\n",
    "for _ in range(20):\n",
    "    output = []\n",
    "    context = [0] * block_size # initialize the context with '...'\n",
    "\n",
    "    while True:\n",
    "        # forward pass\n",
    "        embedding = C[torch.tensor([context])] # (block_size, num_embeddings)\n",
    "        hidden = embedding.view(1, -1) @ W1\n",
    "        hidden_norm = batch_norm_gain * (hidden - batch_mean_running) / batch_std_running + batch_norm_bias # apply batch normalization\n",
    "        hidden_act = torch.tanh(hidden_norm) # (1, num_hidden)\n",
    "        logits = hidden_act @ W2 + b2 # (1, vocab_size)\n",
    "        probs = F.softmax(logits, dim=1) # (1, vocab_size)\n",
    "        \n",
    "        # sample a character\n",
    "        index = torch.multinomial(probs, num_samples=1, generator=g).item() # (1)\n",
    "\n",
    "        # update the context\n",
    "        context = context[1:] + [index]\n",
    "\n",
    "        # add the character index to the output\n",
    "        output.append(index)\n",
    "\n",
    "        # stop if we hit a period (index 0)\n",
    "        if index == 0:\n",
    "            break\n",
    "\n",
    "    print(''.join(int_to_char[i] for i in output))\n",
    "\n",
    "\n"
   ]
  },
  {
   "cell_type": "code",
   "execution_count": null,
   "metadata": {},
   "outputs": [],
   "source": []
  }
 ],
 "metadata": {
  "kernelspec": {
   "display_name": "andrej",
   "language": "python",
   "name": "python3"
  },
  "language_info": {
   "codemirror_mode": {
    "name": "ipython",
    "version": 3
   },
   "file_extension": ".py",
   "mimetype": "text/x-python",
   "name": "python",
   "nbconvert_exporter": "python",
   "pygments_lexer": "ipython3",
   "version": "3.9.15"
  },
  "orig_nbformat": 4,
  "vscode": {
   "interpreter": {
    "hash": "c8488218cb55614ce589f52102db3ae120df1ab94a645d769b60db35d87f4371"
   }
  }
 },
 "nbformat": 4,
 "nbformat_minor": 2
}
