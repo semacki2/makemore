{
 "cells": [
  {
   "cell_type": "code",
   "execution_count": 229,
   "metadata": {},
   "outputs": [],
   "source": [
    "import torch\n",
    "import torch.nn.functional as F\n",
    "import matplotlib.pyplot as plt\n",
    "%matplotlib inline"
   ]
  },
  {
   "cell_type": "code",
   "execution_count": 230,
   "metadata": {},
   "outputs": [
    {
     "data": {
      "text/plain": [
       "['emma', 'olivia', 'ava', 'isabella', 'sophia', 'charlotte', 'mia', 'amelia']"
      ]
     },
     "execution_count": 230,
     "metadata": {},
     "output_type": "execute_result"
    }
   ],
   "source": [
    "# read in all the names\n",
    "words = open('names.txt').read().splitlines()\n",
    "words[:8]"
   ]
  },
  {
   "cell_type": "code",
   "execution_count": 231,
   "metadata": {},
   "outputs": [
    {
     "data": {
      "text/plain": [
       "32033"
      ]
     },
     "execution_count": 231,
     "metadata": {},
     "output_type": "execute_result"
    }
   ],
   "source": [
    "len(words)"
   ]
  },
  {
   "cell_type": "code",
   "execution_count": 232,
   "metadata": {},
   "outputs": [
    {
     "name": "stdout",
     "output_type": "stream",
     "text": [
      "{1: 'a', 2: 'b', 3: 'c', 4: 'd', 5: 'e', 6: 'f', 7: 'g', 8: 'h', 9: 'i', 10: 'j', 11: 'k', 12: 'l', 13: 'm', 14: 'n', 15: 'o', 16: 'p', 17: 'q', 18: 'r', 19: 's', 20: 't', 21: 'u', 22: 'v', 23: 'w', 24: 'x', 25: 'y', 26: 'z', 0: '.'}\n"
     ]
    }
   ],
   "source": [
    "# build the vocabulary of characters and mappings to/from integers\n",
    "chars = sorted(list(set(''.join(words))))\n",
    "\n",
    "string_to_integer = {s:i+1 for i,s in enumerate(chars)}\n",
    "string_to_integer['.'] = 0\n",
    "\n",
    "integer_to_string = {i:s for s,i in string_to_integer.items()}\n",
    "print(integer_to_string)"
   ]
  },
  {
   "cell_type": "code",
   "execution_count": 233,
   "metadata": {},
   "outputs": [
    {
     "name": "stdout",
     "output_type": "stream",
     "text": [
      "torch.Size([182625, 3]) torch.Size([182625])\n",
      "torch.Size([22655, 3]) torch.Size([22655])\n",
      "torch.Size([22866, 3]) torch.Size([22866])\n"
     ]
    }
   ],
   "source": [
    "# build the dataset\n",
    "def build_dataset(words):\n",
    "    block_size = 3 # context length: how many characters do we take to predict the next one?\n",
    "\n",
    "    X, Y = [], [] # X is the context, Y is the target\n",
    "\n",
    "    for word in words:\n",
    "        context = [0] * block_size # start with a context of all '.'\n",
    "        \n",
    "        for char in word+'.':\n",
    "            index = string_to_integer[char]\n",
    "            X.append(context)\n",
    "            Y.append(index)\n",
    "            # print(''.join([integer_to_string[i] for i in context]), '---->', char)\n",
    "            context = context[1:] + [index]\n",
    "    \n",
    "    X = torch.tensor(X)\n",
    "    Y = torch.tensor(Y)\n",
    "    print(X.shape, Y.shape)\n",
    "\n",
    "    return X, Y\n",
    "\n",
    "import random\n",
    "random.seed(42)\n",
    "random.shuffle(words)\n",
    "n1 = int(len(words) * 0.8) # 80% for training\n",
    "n2 = int(len(words) * 0.9) # 10% for validation; 10% for testing\n",
    "\n",
    "X_train, Y_train = build_dataset(words[:n1]) \n",
    "X_valid, Y_valid = build_dataset(words[n1:n2]) \n",
    "X_test, Y_test = build_dataset(words[n2:]) \n"
   ]
  },
  {
   "attachments": {},
   "cell_type": "markdown",
   "metadata": {},
   "source": [
    "# Build the MLP model"
   ]
  },
  {
   "cell_type": "code",
   "execution_count": 234,
   "metadata": {},
   "outputs": [
    {
     "data": {
      "text/plain": [
       "(torch.Size([182625, 3]), torch.Size([182625]))"
      ]
     },
     "execution_count": 234,
     "metadata": {},
     "output_type": "execute_result"
    }
   ],
   "source": [
    "X_train.shape, Y_train.shape # the dataset"
   ]
  },
  {
   "cell_type": "code",
   "execution_count": 269,
   "metadata": {},
   "outputs": [],
   "source": [
    "g = torch.Generator().manual_seed(2147483647)\n",
    "C = torch.randn((27, 10), generator=g)\n",
    "w1 = torch.randn((30,200), generator=g)\n",
    "b1 = torch.randn(200, generator=g)\n",
    "w2 = torch.randn((200,27), generator=g)\n",
    "b2 = torch.randn(27, generator=g)\n",
    "parameters = [C, w1, b1, w2, b2]\n",
    "\n",
    "for p in parameters:\n",
    "    p.requires_grad = True # tell PyTorch to compute gradients for these parameters"
   ]
  },
  {
   "cell_type": "code",
   "execution_count": 270,
   "metadata": {},
   "outputs": [
    {
     "data": {
      "text/plain": [
       "11897"
      ]
     },
     "execution_count": 270,
     "metadata": {},
     "output_type": "execute_result"
    }
   ],
   "source": [
    "sum(p.nelement() for p in parameters)"
   ]
  },
  {
   "cell_type": "code",
   "execution_count": 271,
   "metadata": {},
   "outputs": [],
   "source": [
    "num_epochs = 100000\n",
    "\n",
    "learning_rate_exponent = torch.linspace(-3, 0, num_epochs) \n",
    "learning_rates = 10 ** learning_rate_exponent # 0.001, 0.0011, 0.0012, ..., 1.0\n",
    "\n",
    "learning_rate_indeces = []\n",
    "loss_indeces = []\n",
    "steps = []"
   ]
  },
  {
   "cell_type": "code",
   "execution_count": 272,
   "metadata": {},
   "outputs": [
    {
     "name": "stdout",
     "output_type": "stream",
     "text": [
      "10000 loss=2.763\n",
      "20000 loss=2.789\n",
      "30000 loss=1.960\n",
      "40000 loss=2.717\n",
      "50000 loss=2.568\n",
      "60000 loss=2.247\n",
      "70000 loss=1.970\n",
      "80000 loss=2.172\n",
      "90000 loss=1.892\n",
      "100000 loss=1.958\n"
     ]
    }
   ],
   "source": [
    "\n",
    "\n",
    "for epoch in range(num_epochs):\n",
    "    # mini-batch construction\n",
    "    indices = torch.randint(0, X_train.shape[0], (32,)) # get 32 random indices\n",
    "\n",
    "    # forward pass\n",
    "    emb = C[X_train[indices]] # the embedding; (32, 3, 2); get the embeddings for the mini-batch\n",
    "    h = torch.tanh(emb.view(-1, 30) @ w1 + b1) # the hidden layer; (32, 100)\n",
    "    logits = h @ w2 + b2 # the logits; (32, 27)\n",
    "    loss = F.cross_entropy(logits, Y_train[indices]) # the loss of the mini-batch\n",
    "    \n",
    "    print(f'{epoch+1} {loss=:.3f}') if (epoch+1) % 10000 == 0 else None\n",
    "\n",
    "    # backward pass\n",
    "    for p in parameters:\n",
    "        p.grad = None # zero the gradients\n",
    "\n",
    "    loss.backward() # compute the gradients\n",
    "\n",
    "    # update the parameters\n",
    "    learning_rate = 0.1 if epoch < (num_epochs/2) else 0.01\n",
    "    for p in parameters:\n",
    "        # p.data -= learning_rates[epoch] * p.grad # update the parameters; learning rate decay\n",
    "        p.data -= p.grad * learning_rate # update the parameters; learning rate decay\n",
    "\n",
    "    # track stats\n",
    "    # learning_rate_indeces.append(learning_rate_exponent[epoch])\n",
    "    steps.append(epoch)\n",
    "    loss_indeces.append(loss.log10().item())\n"
   ]
  },
  {
   "cell_type": "code",
   "execution_count": 273,
   "metadata": {},
   "outputs": [
    {
     "data": {
      "text/plain": [
       "[<matplotlib.lines.Line2D at 0x137818f3820>]"
      ]
     },
     "execution_count": 273,
     "metadata": {},
     "output_type": "execute_result"
    },
    {
     "data": {
      "image/png": "[encoded data removed]",
      "text/plain": [
       "<Figure size 640x480 with 1 Axes>"
      ]
     },
     "metadata": {},
     "output_type": "display_data"
    }
   ],
   "source": [
    "plt.plot(steps, loss_indeces)"
   ]
  },
  {
   "cell_type": "code",
   "execution_count": 274,
   "metadata": {},
   "outputs": [
    {
     "data": {
      "image/png": "[encoded data removed]",
      "text/plain": [
       "<Figure size 1000x1000 with 1 Axes>"
      ]
     },
     "metadata": {},
     "output_type": "display_data"
    }
   ],
   "source": [
    "plt.figure(figsize=(10, 10))\n",
    "plt.scatter(C[:, 0].data, C[:, 1].data, s=200)\n",
    "for i in range(C.shape[0]):\n",
    "    plt.text(C[i, 0].item(), C[i, 1].item(), integer_to_string[i], ha='center', va='center', color='white')\n",
    "\n",
    "plt.grid('minor')"
   ]
  },
  {
   "cell_type": "code",
   "execution_count": 275,
   "metadata": {},
   "outputs": [
    {
     "name": "stdout",
     "output_type": "stream",
     "text": [
      "loss=2.202\n"
     ]
    }
   ],
   "source": [
    "# evaluate the loss on the whole training dataset\n",
    "emb = C[X_train] # the embedding; (N, 3, 2); get the embeddings for the whole dataset\n",
    "h = torch.tanh(emb.view(-1, 30) @ w1 + b1) # the hidden layer; (N, 100)\n",
    "logits = h @ w2 + b2 # the logits; (N, 27)\n",
    "loss = F.cross_entropy(logits, Y_train) # the loss of the whole dataset\n",
    "print(f'{loss=:.3f}')\n"
   ]
  },
  {
   "cell_type": "code",
   "execution_count": 276,
   "metadata": {},
   "outputs": [
    {
     "name": "stdout",
     "output_type": "stream",
     "text": [
      "loss=2.221\n"
     ]
    }
   ],
   "source": [
    "# evaluate the loss on the whole validation dataset\n",
    "emb = C[X_valid] # the embedding; (N, 3, 2); get the embeddings for the whole dataset\n",
    "h = torch.tanh(emb.view(-1, 30) @ w1 + b1) # the hidden layer; (N, 100)\n",
    "logits = h @ w2 + b2 # the logits; (N, 27)\n",
    "loss = F.cross_entropy(logits, Y_valid) # the loss of the whole dataset\n",
    "print(f'{loss=:.3f}')\n"
   ]
  },
  {
   "cell_type": "code",
   "execution_count": 280,
   "metadata": {},
   "outputs": [
    {
     "name": "stdout",
     "output_type": "stream",
     "text": [
      "carmah.\n",
      "amille.\n",
      "khy.\n",
      "mili.\n",
      "taty.\n",
      "hacarsie.\n",
      "mahnen.\n",
      "deliah.\n",
      "jareei.\n",
      "nermara.\n",
      "chaiiv.\n",
      "kaleig.\n",
      "halma.\n",
      "kin.\n",
      "quinn.\n",
      "sulin.\n",
      "alia.\n",
      "biur.\n",
      "jerm.\n",
      "dearyni.\n"
     ]
    }
   ],
   "source": [
    "# sample from the model\n",
    "g = torch.Generator().manual_seed(2147483647 + 10)\n",
    "block_size = 3 # context length: how many characters do we take to predict the next one?\n",
    "\n",
    "for _ in range(20):\n",
    "    output = []\n",
    "\n",
    "    context = [0] * block_size # initialize with '...'\n",
    "\n",
    "    while True:\n",
    "        embedding = C[torch.tensor(context)]\n",
    "        h = torch.tanh(embedding.view(1, -1) @ w1 + b1)\n",
    "        logits = h @ w2 + b2\n",
    "        probabilities = F.softmax(logits, dim=1)\n",
    "        index = torch.multinomial(probabilities, 1, generator=g).item()\n",
    "        context = context[1:] + [index]\n",
    "        output.append(index)\n",
    "        if index == 0:\n",
    "            break\n",
    "\n",
    "    print(''.join([integer_to_string[i] for i in output]))\n"
   ]
  },
  {
   "cell_type": "code",
   "execution_count": null,
   "metadata": {},
   "outputs": [],
   "source": []
  }
 ],
 "metadata": {
  "kernelspec": {
   "display_name": "andrej",
   "language": "python",
   "name": "python3"
  },
  "language_info": {
   "codemirror_mode": {
    "name": "ipython",
    "version": 3
   },
   "file_extension": ".py",
   "mimetype": "text/x-python",
   "name": "python",
   "nbconvert_exporter": "python",
   "pygments_lexer": "ipython3",
   "version": "3.9.15"
  },
  "orig_nbformat": 4,
  "vscode": {
   "interpreter": {
    "hash": "c8488218cb55614ce589f52102db3ae120df1ab94a645d769b60db35d87f4371"
   }
  }
 },
 "nbformat": 4,
 "nbformat_minor": 2
}
